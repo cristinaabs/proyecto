{
 "cells": [
  {
   "cell_type": "markdown",
   "id": "318402ea",
   "metadata": {},
   "source": [
    "# PROYECTO FP\n",
    "\n",
    "Autor: Cristina Victoria Beltrán Soto"
   ]
  },
  {
   "cell_type": "markdown",
   "id": "7416709f",
   "metadata": {},
   "source": [
    "El objetivo de este Notebook es trabajar con los datos del archivo csv que contiene los datos de videpjuegosde empresas como Nintendo, Microsoft Game Studios y muchas más."
   ]
  },
  {
   "cell_type": "code",
   "execution_count": 1,
   "id": "22590659",
   "metadata": {},
   "outputs": [],
   "source": [
    "import csv\n",
    "from platform import platform\n",
    "from matplotlib import pyplot as plt\n",
    "from tokenize import Name\n",
    "from collections import namedtuple"
   ]
  },
  {
   "cell_type": "markdown",
   "id": "964b084b",
   "metadata": {},
   "source": [
    "## Función de lectura de texto\n",
    "\n",
    "Los datos se encuentran en un fichero en formato CSV codificado en UTF-8. En este Notebook se va a trabajar con los datos:"
   ]
  },
  {
   "cell_type": "code",
   "execution_count": 2,
   "id": "148b3f0b",
   "metadata": {},
   "outputs": [],
   "source": [
    "Juego = namedtuple('Juego', 'Name, Platform, Year_of_Release, Publisher, Global_Sales, Critic_Score, Critic_Count')\n",
    "def lee_videojuegos(fichero):\n",
    "    with open(fichero, encoding='utf-8') as f:\n",
    "        lector = csv.reader(f, delimiter=';')\n",
    "        next(lector)\n",
    "        videojuego = []\n",
    "        for Name, Platform, Year_of_Release, Publisher, Global_Sales, Critic_Score, Critic_Count in lector:\n",
    "            videojuego.append(Juego(Name, Platform, int(Year_of_Release), Publisher,  float(Global_Sales), int(Critic_Score), int(Critic_Count)))\n",
    "    return videojuego"
   ]
  },
  {
   "cell_type": "code",
   "execution_count": 3,
   "id": "5dbf5a6a",
   "metadata": {},
   "outputs": [
    {
     "name": "stdout",
     "output_type": "stream",
     "text": [
      "[Juego(Name='Wii Sports', Platform='Wii', Year_of_Release=2006, Publisher='Nintendo', Global_Sales=82.53, Critic_Score=76, Critic_Count=51), Juego(Name='Mario Kart Wii', Platform='Wii', Year_of_Release=2008, Publisher='Nintendo', Global_Sales=35.52, Critic_Score=82, Critic_Count=73), Juego(Name='Wii Sports Resort', Platform='Wii', Year_of_Release=2009, Publisher='Nintendo', Global_Sales=32.77, Critic_Score=80, Critic_Count=73), Juego(Name='New Super Mario Bros.', Platform='DS', Year_of_Release=2006, Publisher='Nintendo', Global_Sales=29.8, Critic_Score=89, Critic_Count=65), Juego(Name='Wii Play', Platform='Wii', Year_of_Release=2006, Publisher='Nintendo', Global_Sales=28.92, Critic_Score=58, Critic_Count=41)]\n"
     ]
    }
   ],
   "source": [
    "videojuegos = lee_videojuegos('videojuegos.csv')\n",
    "print(videojuegos[:5])"
   ]
  },
  {
   "cell_type": "markdown",
   "id": "c6170eaa",
   "metadata": {},
   "source": [
    "## Filtrado y conteo\n",
    "\n",
    "Vamos a comenzar por hacer un filtrado en función de la empresa de videojuegos. Luego compararemos el número de videojuegos que ha publicado cada empresa."
   ]
  },
  {
   "cell_type": "code",
   "execution_count": 4,
   "id": "6810c3ce",
   "metadata": {},
   "outputs": [],
   "source": [
    "def publicado(videojuegos):\n",
    "    publisher = [e.Publisher for e in videojuegos]\n",
    "    return publisher"
   ]
  },
  {
   "cell_type": "code",
   "execution_count": 5,
   "id": "e44a6063",
   "metadata": {},
   "outputs": [
    {
     "name": "stdout",
     "output_type": "stream",
     "text": [
      "{'Sony Computer Entertainment Europe', 'Sony Computer Entertainment', 'Konami Digital Entertainment', 'Microsoft Game Studios', 'LucasArts', 'Capcom', 'MTV Games', '505 Games', 'Activision', 'Bethesda Softworks', 'Square Enix', 'GT Interactive', 'Eidos Interactive', 'Ubisoft', 'Virgin Interactive', 'Namco Bandai Games', 'Electronic Arts', 'Atari', 'Warner Bros. Interactive Entertainment', 'Take-Two Interactive', 'RedOctane', 'Universal Interactive', 'Nintendo', 'Sega', 'SquareSoft', 'Vivendi Games'}\n"
     ]
    }
   ],
   "source": [
    "empresa = publicado(videojuegos)\n",
    "print(set(empresa))"
   ]
  },
  {
   "cell_type": "code",
   "execution_count": 6,
   "id": "eb41d769",
   "metadata": {},
   "outputs": [],
   "source": [
    "def juegos_por_empresa(lista):\n",
    "    Dic=dict()\n",
    "    for _,_,_,publisher,_,_,_ in lista:\n",
    "        \n",
    "        if publisher in Dic.keys():\n",
    "            Dic[publisher]= Dic[publisher]+1\n",
    "        else:\n",
    "#            publisher = [Publisher for _,_,_,Publisher,_,_,_ in videojuegos]\n",
    "            Dic[publisher]= 1\n",
    "    return Dic"
   ]
  },
  {
   "cell_type": "code",
   "execution_count": 7,
   "id": "bc96ef9c",
   "metadata": {},
   "outputs": [
    {
     "name": "stdout",
     "output_type": "stream",
     "text": [
      "{'Nintendo': 61, 'Microsoft Game Studios': 19, 'Take-Two Interactive': 23, 'Sony Computer Entertainment': 36, 'Activision': 40, 'Ubisoft': 24, 'Bethesda Softworks': 9, 'Electronic Arts': 51, 'SquareSoft': 2, 'GT Interactive': 1, 'Konami Digital Entertainment': 8, 'Square Enix': 5, 'Sony Computer Entertainment Europe': 2, 'Virgin Interactive': 2, 'LucasArts': 5, '505 Games': 2, 'Capcom': 6, 'Warner Bros. Interactive Entertainment': 5, 'Universal Interactive': 1, 'Eidos Interactive': 4, 'RedOctane': 1, 'Atari': 3, 'Namco Bandai Games': 6, 'Vivendi Games': 1, 'MTV Games': 1, 'Sega': 1}\n"
     ]
    }
   ],
   "source": [
    "print(juegos_por_empresa(videojuegos))"
   ]
  },
  {
   "cell_type": "markdown",
   "id": "691a3c6c",
   "metadata": {},
   "source": [
    "## Nota Media\n",
    "\n",
    "Calcularemos la nota media de todas las empresas representadas anteriormente entre todos sus videojuegos, sobre 100."
   ]
  },
  {
   "cell_type": "code",
   "execution_count": 8,
   "id": "fd5e599c",
   "metadata": {},
   "outputs": [],
   "source": [
    "def calcula_nota(videojuegos):\n",
    "    diccionario=dict()\n",
    "    publishers = {Publisher for _,_,_,Publisher,_,_,_ in videojuegos}\n",
    "    for publisher in publishers:\n",
    "            nota= [Critic_Score for _,_,_,Publisher,_,Critic_Score,_ in videojuegos if Publisher==publisher]\n",
    "            diccionario[publisher]=sum(nota)/len(nota)\n",
    "    return diccionario"
   ]
  },
  {
   "cell_type": "code",
   "execution_count": 9,
   "id": "df16398e",
   "metadata": {},
   "outputs": [
    {
     "name": "stdout",
     "output_type": "stream",
     "text": [
      "{'Sony Computer Entertainment Europe': 92.0, 'Sony Computer Entertainment': 87.86111111111111, 'Konami Digital Entertainment': 90.875, 'Microsoft Game Studios': 86.94736842105263, 'LucasArts': 77.2, 'Capcom': 85.33333333333333, 'MTV Games': 82.0, '505 Games': 68.5, 'Activision': 84.85, 'Bethesda Softworks': 89.55555555555556, 'Square Enix': 86.8, 'GT Interactive': 87.0, 'Eidos Interactive': 89.75, 'Ubisoft': 79.5, 'Virgin Interactive': 90.0, 'Namco Bandai Games': 80.66666666666667, 'Electronic Arts': 83.37254901960785, 'Atari': 63.666666666666664, 'Warner Bros. Interactive Entertainment': 85.0, 'Take-Two Interactive': 88.52173913043478, 'RedOctane': 92.0, 'Universal Interactive': 66.0, 'Nintendo': 82.26229508196721, 'Sega': 82.0, 'SquareSoft': 92.0, 'Vivendi Games': 96.0}\n"
     ]
    }
   ],
   "source": [
    "print(calcula_nota(videojuegos))"
   ]
  },
  {
   "cell_type": "markdown",
   "id": "2a579aa2",
   "metadata": {},
   "source": [
    "## Top 5 mejores y peores\n",
    "\n",
    "\n",
    "Localizaremos los 5 mejores videojuegos de todas las plataformas, nos centrandonos en la nota, menos en el último el cual nos centraremos en las ventas globales, la cual está sobre 100. Luego haremos lo mismo, pero para los 5 peores videojuegos, para comparar los resultados."
   ]
  },
  {
   "cell_type": "code",
   "execution_count": 10,
   "id": "2a896884",
   "metadata": {},
   "outputs": [],
   "source": [
    "def mostrar_numerado(videojuegos):\n",
    "    i=0\n",
    "    for p in videojuegos:\n",
    "        i=i+1\n",
    "        print (i, p) "
   ]
  },
  {
   "cell_type": "code",
   "execution_count": 11,
   "id": "71c43719",
   "metadata": {},
   "outputs": [],
   "source": [
    "def mejor_videojuego(lista, platform=None):\n",
    "    mejorvideojuego = []\n",
    "    if platform is not None:\n",
    "        lista = [e for e in lista if e.Platform==platform]\n",
    "    for elemento in lista:\n",
    "        if mejorvideojuego == []: \n",
    "            mejorvideojuego.append(elemento)\n",
    "        else:\n",
    "            if elemento.Critic_Score > mejorvideojuego[0].Critic_Score:\n",
    "                mejorvideojuego.clear() \n",
    "                mejorvideojuego.append(elemento)\n",
    "            elif elemento.Critic_Score == mejorvideojuego[0].Critic_Score:\n",
    "                mejorvideojuego.append(elemento)\n",
    "            else:\n",
    "                continue \n",
    "    return mejorvideojuego"
   ]
  },
  {
   "cell_type": "code",
   "execution_count": 12,
   "id": "ca90bf4d",
   "metadata": {},
   "outputs": [
    {
     "name": "stdout",
     "output_type": "stream",
     "text": [
      "[Juego(Name='Grand Theft Auto IV', Platform='X360', Year_of_Release=2008, Publisher='Take-Two Interactive', Global_Sales=11.01, Critic_Score=98, Critic_Count=86), Juego(Name='Grand Theft Auto IV', Platform='PS3', Year_of_Release=2008, Publisher='Take-Two Interactive', Global_Sales=10.5, Critic_Score=98, Critic_Count=64), Juego(Name=\"Tony Hawk's Pro Skater 2\", Platform='PS', Year_of_Release=2000, Publisher='Activision', Global_Sales=4.68, Critic_Score=98, Critic_Count=19)]\n"
     ]
    }
   ],
   "source": [
    "print(mejor_videojuego(videojuegos))"
   ]
  },
  {
   "cell_type": "code",
   "execution_count": 13,
   "id": "eee45a7d",
   "metadata": {},
   "outputs": [],
   "source": [
    "def top5mejores(datos, condicion=None, criterio=lambda x:x.Critic_Score, limite=5):\n",
    "    if criterio is not None:\n",
    "        datos=[juego for juego in datos if condicion(juego)]\n",
    "    return sorted(datos, key=criterio,reverse=True)[:limite]"
   ]
  },
  {
   "cell_type": "code",
   "execution_count": 14,
   "id": "a0d0b92e",
   "metadata": {},
   "outputs": [
    {
     "name": "stdout",
     "output_type": "stream",
     "text": [
      "Top 5 mejores videojuegos de Wii:\n",
      "1 Juego(Name='Super Mario Galaxy', Platform='Wii', Year_of_Release=2007, Publisher='Nintendo', Global_Sales=11.35, Critic_Score=97, Critic_Count=73)\n",
      "2 Juego(Name='Super Mario Galaxy 2', Platform='Wii', Year_of_Release=2010, Publisher='Nintendo', Global_Sales=7.51, Critic_Score=97, Critic_Count=87)\n",
      "3 Juego(Name='The Legend of Zelda: Twilight Princess', Platform='Wii', Year_of_Release=2006, Publisher='Nintendo', Global_Sales=7.15, Critic_Score=95, Critic_Count=73)\n",
      "4 Juego(Name='Super Smash Bros. Brawl', Platform='Wii', Year_of_Release=2008, Publisher='Nintendo', Global_Sales=12.84, Critic_Score=93, Critic_Count=81)\n",
      "5 Juego(Name='The Legend of Zelda: Skyward Sword', Platform='Wii', Year_of_Release=2011, Publisher='Nintendo', Global_Sales=3.95, Critic_Score=93, Critic_Count=81)\n"
     ]
    }
   ],
   "source": [
    "test= top5mejores(videojuegos, lambda y:y.Platform=='Wii')\n",
    "print(\"Top 5 mejores videojuegos de Wii:\")\n",
    "mostrar_numerado(test)"
   ]
  },
  {
   "cell_type": "code",
   "execution_count": 15,
   "id": "e6b616cd",
   "metadata": {},
   "outputs": [],
   "source": [
    "def peor_videojuego(lista, platform=None):\n",
    "    peorvideojuego = []\n",
    "    if platform is not None:\n",
    "        lista = [e for e in lista if e.Platform==platform]\n",
    "    for elemento in lista:\n",
    "        if peorvideojuego == []: \n",
    "            peorvideojuego.append(elemento)\n",
    "        else:\n",
    "            if elemento.Critic_Score < peorvideojuego[0].Critic_Score:\n",
    "                peorvideojuego.clear() \n",
    "                peorvideojuego.append(elemento)\n",
    "            elif elemento.Critic_Score == peorvideojuego[0].Critic_Score:\n",
    "                peorvideojuego.append(elemento)\n",
    "            else:\n",
    "                continue \n",
    "    return peorvideojuego"
   ]
  },
  {
   "cell_type": "code",
   "execution_count": 16,
   "id": "bfd317ee",
   "metadata": {},
   "outputs": [
    {
     "name": "stdout",
     "output_type": "stream",
     "text": [
      "[Juego(Name='Just Dance', Platform='Wii', Year_of_Release=2009, Publisher='Ubisoft', Global_Sales=7.2, Critic_Score=49, Critic_Count=21)]\n"
     ]
    }
   ],
   "source": [
    "print(peor_videojuego(videojuegos))"
   ]
  },
  {
   "cell_type": "code",
   "execution_count": 17,
   "id": "762a15e7",
   "metadata": {},
   "outputs": [],
   "source": [
    "def top_peores(datos, condicion=None, criterio=lambda x:x.Critic_Score, limite=5):\n",
    "    if condicion is not None:\n",
    "        datos=[juego for juego in datos if condicion(juego)]\n",
    "    return sorted(datos, key=criterio)[:limite]"
   ]
  },
  {
   "cell_type": "code",
   "execution_count": 18,
   "id": "eac961ed",
   "metadata": {},
   "outputs": [
    {
     "name": "stdout",
     "output_type": "stream",
     "text": [
      "Top 5 peores videojuegos(ventas):\n",
      "1 Juego(Name='Heavy Rain', Platform='PS3', Year_of_Release=2010, Publisher='Sony Computer Entertainment', Global_Sales=3.03, Critic_Score=87, Critic_Count=107)\n",
      "2 Juego(Name='Kung Fu Panda', Platform='X360', Year_of_Release=2008, Publisher='Activision', Global_Sales=3.04, Critic_Score=75, Critic_Count=42)\n",
      "3 Juego(Name='Mass Effect 3', Platform='X360', Year_of_Release=2012, Publisher='Electronic Arts', Global_Sales=3.04, Critic_Score=93, Critic_Count=74)\n",
      "4 Juego(Name='Animal Crossing: Happy Home Designer', Platform='3DS', Year_of_Release=2015, Publisher='Nintendo', Global_Sales=3.05, Critic_Score=66, Critic_Count=60)\n",
      "5 Juego(Name='The Sims 4', Platform='PC', Year_of_Release=2014, Publisher='Electronic Arts', Global_Sales=3.05, Critic_Score=70, Critic_Count=74)\n"
     ]
    }
   ],
   "source": [
    "top5peores = top_peores(videojuegos, criterio=lambda x:x.Global_Sales)\n",
    "print(\"Top 5 peores videojuegos(ventas):\")\n",
    "mostrar_numerado(top5peores)"
   ]
  },
  {
   "cell_type": "markdown",
   "id": "a6791209",
   "metadata": {},
   "source": [
    "## Gráfica\n",
    "\n",
    "Haremos una gráfica la cual represente las ventes globalmente en la empresa Wii"
   ]
  },
  {
   "cell_type": "code",
   "execution_count": 19,
   "id": "24b60548",
   "metadata": {},
   "outputs": [],
   "source": [
    "def ventas(registros,Platform):\n",
    "    wii = [e.Global_Sales for e in registros if e.Platform == Platform]\n",
    "    plt.plot(wii, label='ventas en '+ Platform)\n",
    "    plt.legend()\n",
    "    plt.show()"
   ]
  },
  {
   "cell_type": "code",
   "execution_count": 20,
   "id": "c29c69ee",
   "metadata": {},
   "outputs": [
    {
     "data": {
      "image/png": "[encoded data removed]",
      "text/plain": [
       "<Figure size 432x288 with 1 Axes>"
      ]
     },
     "metadata": {
      "needs_background": "light"
     },
     "output_type": "display_data"
    }
   ],
   "source": [
    "ventas(videojuegos,'Wii')"
   ]
  },
  {
   "cell_type": "code",
   "execution_count": 21,
   "id": "f35f8263",
   "metadata": {},
   "outputs": [
    {
     "data": {
      "text/plain": [
       "31"
      ]
     },
     "execution_count": 21,
     "metadata": {},
     "output_type": "execute_result"
    }
   ],
   "source": [
    "# Número de juegos de Wii\n",
    "len([e for e in videojuegos if e.Platform=='Wii'])"
   ]
  },
  {
   "cell_type": "code",
   "execution_count": null,
   "id": "1cfaaab1",
   "metadata": {},
   "outputs": [],
   "source": []
  }
 ],
 "metadata": {
  "kernelspec": {
   "display_name": "Python 3 (ipykernel)",
   "language": "python",
   "name": "python3"
  },
  "language_info": {
   "codemirror_mode": {
    "name": "ipython",
    "version": 3
   },
   "file_extension": ".py",
   "mimetype": "text/x-python",
   "name": "python",
   "nbconvert_exporter": "python",
   "pygments_lexer": "ipython3",
   "version": "3.9.12"
  },
  "vscode": {
   "interpreter": {
    "hash": "000c74b085ed1b68eb2547ece368d530e75095bb94cf8c48469769a097fb0021"
   }
  }
 },
 "nbformat": 4,
 "nbformat_minor": 5
}
