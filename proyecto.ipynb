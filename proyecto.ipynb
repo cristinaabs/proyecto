{
 "cells": [
  {
   "cell_type": "code",
   "execution_count": 1,
   "id": "22590659",
   "metadata": {},
   "outputs": [],
   "source": [
    "import csv\n",
    "from platform import platform\n",
    "from matplotlib import pyplot as plt\n",
    "from tokenize import Name"
   ]
  },
  {
   "cell_type": "code",
   "execution_count": 2,
   "id": "148b3f0b",
   "metadata": {},
   "outputs": [],
   "source": [
    "def lee_videojuegos(fichero):\n",
    "    with open(fichero, encoding='utf-8') as f: \n",
    "        lector = csv.reader(f)\n",
    "        next(lector)\n",
    "        videojuegos = [(Name, Platform, int(Year_of_Release), Publisher, float(Global_Sales), int(Critic_Score), int(Critic_Count)) \n",
    "                       for Name, Platform, Year_of_Release, Publisher, Global_Sales, Critic_Score, Critic_Count in lector]\n",
    "        return videojuegos"
   ]
  },
  {
   "cell_type": "code",
   "execution_count": 3,
   "id": "5dbf5a6a",
   "metadata": {},
   "outputs": [
    {
     "ename": "UnicodeDecodeError",
     "evalue": "'utf-8' codec can't decode byte 0xb4 in position 10: invalid start byte",
     "output_type": "error",
     "traceback": [
      "\u001b[0;31m---------------------------------------------------------------------------\u001b[0m",
      "\u001b[0;31mUnicodeDecodeError\u001b[0m                        Traceback (most recent call last)",
      "Input \u001b[0;32mIn [3]\u001b[0m, in \u001b[0;36m<cell line: 1>\u001b[0;34m()\u001b[0m\n\u001b[0;32m----> 1\u001b[0m videojuegos \u001b[38;5;241m=\u001b[39m \u001b[43mlee_videojuegos\u001b[49m\u001b[43m(\u001b[49m\u001b[38;5;124;43m'\u001b[39;49m\u001b[38;5;124;43mGraciasjosan.csv\u001b[39;49m\u001b[38;5;124;43m'\u001b[39;49m\u001b[43m)\u001b[49m\n\u001b[1;32m      2\u001b[0m \u001b[38;5;28mprint\u001b[39m(videojuegos [:\u001b[38;5;241m5\u001b[39m])\n",
      "Input \u001b[0;32mIn [2]\u001b[0m, in \u001b[0;36mlee_videojuegos\u001b[0;34m(fichero)\u001b[0m\n\u001b[1;32m      2\u001b[0m \u001b[38;5;28;01mwith\u001b[39;00m \u001b[38;5;28mopen\u001b[39m(fichero, encoding\u001b[38;5;241m=\u001b[39m\u001b[38;5;124m'\u001b[39m\u001b[38;5;124mutf-8\u001b[39m\u001b[38;5;124m'\u001b[39m) \u001b[38;5;28;01mas\u001b[39;00m f: \n\u001b[1;32m      3\u001b[0m     lector \u001b[38;5;241m=\u001b[39m csv\u001b[38;5;241m.\u001b[39mreader(f)\n\u001b[0;32m----> 4\u001b[0m     \u001b[38;5;28;43mnext\u001b[39;49m\u001b[43m(\u001b[49m\u001b[43mlector\u001b[49m\u001b[43m)\u001b[49m\n\u001b[1;32m      5\u001b[0m     videojuegos \u001b[38;5;241m=\u001b[39m [(Name, Platform, \u001b[38;5;28mint\u001b[39m(Year_of_Release), Publisher, \u001b[38;5;28mfloat\u001b[39m(Global_Sales), \u001b[38;5;28mint\u001b[39m(Critic_Score), \u001b[38;5;28mint\u001b[39m(Critic_Count)) \n\u001b[1;32m      6\u001b[0m                    \u001b[38;5;28;01mfor\u001b[39;00m Name, Platform, Year_of_Release, Publisher, Global_Sales, Critic_Score, Critic_Count \u001b[38;5;129;01min\u001b[39;00m lector]\n\u001b[1;32m      7\u001b[0m     \u001b[38;5;28;01mreturn\u001b[39;00m videojuegos\n",
      "File \u001b[0;32m~/opt/anaconda3/lib/python3.9/codecs.py:322\u001b[0m, in \u001b[0;36mBufferedIncrementalDecoder.decode\u001b[0;34m(self, input, final)\u001b[0m\n\u001b[1;32m    319\u001b[0m \u001b[38;5;28;01mdef\u001b[39;00m \u001b[38;5;21mdecode\u001b[39m(\u001b[38;5;28mself\u001b[39m, \u001b[38;5;28minput\u001b[39m, final\u001b[38;5;241m=\u001b[39m\u001b[38;5;28;01mFalse\u001b[39;00m):\n\u001b[1;32m    320\u001b[0m     \u001b[38;5;66;03m# decode input (taking the buffer into account)\u001b[39;00m\n\u001b[1;32m    321\u001b[0m     data \u001b[38;5;241m=\u001b[39m \u001b[38;5;28mself\u001b[39m\u001b[38;5;241m.\u001b[39mbuffer \u001b[38;5;241m+\u001b[39m \u001b[38;5;28minput\u001b[39m\n\u001b[0;32m--> 322\u001b[0m     (result, consumed) \u001b[38;5;241m=\u001b[39m \u001b[38;5;28;43mself\u001b[39;49m\u001b[38;5;241;43m.\u001b[39;49m\u001b[43m_buffer_decode\u001b[49m\u001b[43m(\u001b[49m\u001b[43mdata\u001b[49m\u001b[43m,\u001b[49m\u001b[43m \u001b[49m\u001b[38;5;28;43mself\u001b[39;49m\u001b[38;5;241;43m.\u001b[39;49m\u001b[43merrors\u001b[49m\u001b[43m,\u001b[49m\u001b[43m \u001b[49m\u001b[43mfinal\u001b[49m\u001b[43m)\u001b[49m\n\u001b[1;32m    323\u001b[0m     \u001b[38;5;66;03m# keep undecoded input until the next call\u001b[39;00m\n\u001b[1;32m    324\u001b[0m     \u001b[38;5;28mself\u001b[39m\u001b[38;5;241m.\u001b[39mbuffer \u001b[38;5;241m=\u001b[39m data[consumed:]\n",
      "\u001b[0;31mUnicodeDecodeError\u001b[0m: 'utf-8' codec can't decode byte 0xb4 in position 10: invalid start byte"
     ]
    }
   ],
   "source": [
    "videojuegos = lee_videojuegos('Graciasjosan.csv')\n",
    "print(videojuegos [:5])"
   ]
  },
  {
   "cell_type": "code",
   "execution_count": null,
   "id": "d4b92374",
   "metadata": {},
   "outputs": [],
   "source": [
    "Arcos= set(episodio.arco for episodio in CAPITULOS)\n",
    "Arcos"
   ]
  },
  {
   "cell_type": "code",
   "execution_count": 3,
   "id": "24b60548",
   "metadata": {},
   "outputs": [],
   "source": [
    "def ventas(nombre,Platform):\n",
    "    nintendo = [e.Global_Sales for e in nombre if e.Name == nombre]\n",
    "    plt.plot(nintendo, label='ventas en nintendo')\n",
    "    plt.legend()\n",
    "    plt.show()"
   ]
  },
  {
   "cell_type": "code",
   "execution_count": null,
   "id": "c29c69ee",
   "metadata": {},
   "outputs": [],
   "source": []
  }
 ],
 "metadata": {
  "kernelspec": {
   "display_name": "Python 3 (ipykernel)",
   "language": "python",
   "name": "python3"
  },
  "language_info": {
   "codemirror_mode": {
    "name": "ipython",
    "version": 3
   },
   "file_extension": ".py",
   "mimetype": "text/x-python",
   "name": "python",
   "nbconvert_exporter": "python",
   "pygments_lexer": "ipython3",
   "version": "3.9.12"
  },
  "vscode": {
   "interpreter": {
    "hash": "000c74b085ed1b68eb2547ece368d530e75095bb94cf8c48469769a097fb0021"
   }
  }
 },
 "nbformat": 4,
 "nbformat_minor": 5
}
